{
 "cells": [
  {
   "cell_type": "markdown",
   "metadata": {},
   "source": [
    "<div style='background-image: url(\"./share/header.png\") ; padding: 0px ; background-size: cover ; border-radius: 5px ; height: 400px'>\n",
    "    <div style=\"float: right ; margin: 170px ; padding: 10px ; background: rgba(255 , 255 , 255 , 0.7) ; width: 53% ; height: 100px\">\n",
    "        <div style=\"position: relative ; top: 50% ; transform: translatey(-50%)\">\n",
    "            <div style=\"font-size: xxx-large ; font-weight: 950 ; color: rgba(0 , 0 , 0 , 0.8) ; line-height: 100%\">Pengulangan ( <i>Looping</i> / <i>Repetition</i>) </div>\n",
    "            <div style=\"font-size: xx-large ; padding-top: 10px ; color: rgba(0 , 0 , 0 , 0.5)\">KU1102</div>\n",
    "        </div>\n",
    "    </div>\n",
    "</div>"
   ]
  },
  {
   "cell_type": "markdown",
   "metadata": {},
   "source": [
    "# Minggu 06\n",
    "<span style=\"color:black;font-weight:100;font-size:35px\">\n",
    "<ul>\n",
    "<li> Mahasiswa dapat menjelaskan jenis-jenis pengulangan dan penggunaannya serta elemen-elemen dalam pengulangan. <br>\n",
    "<li> Mahasiswa dapat menggunakan notasi pengulangan yang sesuai dengan benar. <br>\n",
    "<li> Mahasiswa dapat memanfaatkan jenis-jenis pengulangan dengan tepat dalam menyelesaikan persoalan sederhana yang diberikan. <br>\n",
    "</li>\n",
    "</ul>\n",
    "</span>\n"
   ]
  },
  {
   "cell_type": "markdown",
   "metadata": {},
   "source": [
    "## Contoh 1 - Program JumlahAngka\n",
    "### Menghitung 1+2+3+...+N. Asumsi N > 0\n",
    "<span style=\"color:white;font-weight:100;font-size:35px\">\n",
    "<li>\n",
    "Menggunakan <i>for</i>\n",
    "</li>\n",
    "</span>"
   ]
  },
  {
   "cell_type": "code",
   "execution_count": null,
   "metadata": {},
   "outputs": [],
   "source": [
    "# Program JumlahAngka\n",
    "# Menghitung 1+2+3+...+N. Asumsi N > 0\n",
    "\n",
    "# KAMUS\n",
    "#  N : int\n",
    "#  i, sum : int\n",
    "\n",
    "# ALGORITMA\n",
    "N = int(input())    # Inisialisasi\n",
    "sum = 0             # Inisialisasi\n",
    "\n",
    "for i in range(1,N+1):\n",
    "    print(i)        # Aksi\n",
    "    sum = sum + i   # Aksi\n",
    "\n",
    "print(sum)          # Terminasi\n"
   ]
  },
  {
   "cell_type": "markdown",
   "metadata": {},
   "source": [
    "<span style=\"color:white;font-weight:100;font-size:35px\">\n",
    "<li>\n",
    "Menggunakan <i>while</i>\n",
    "</li>\n",
    "</span>"
   ]
  },
  {
   "cell_type": "code",
   "execution_count": null,
   "metadata": {},
   "outputs": [],
   "source": [
    "# Program JumlahAngka\n",
    "# Menghitung 1+2+3+...+N Asumsi N > 0\n",
    "\n",
    "# KAMUS\n",
    "# N : int\n",
    "# i, sum : int\n",
    "\n",
    "# ALGORITMA\n",
    "N = int(input())     # Inisialisasi\n",
    "sum = 0              # Inisialisasi\n",
    "i = 1                # First-Element\n",
    "while (i <= N):      # Kondisi-mengulang\n",
    "      print(i)       # Aksi\t      \n",
    "      sum = sum + i  # Aksi\n",
    "      i = i + 1      # Next-Element\n",
    "# i > N\n",
    "print(sum)           # Terminasi\n"
   ]
  },
  {
   "cell_type": "markdown",
   "metadata": {},
   "source": [
    "## Contoh 2 - Program Jumlah 10 Angka\n",
    "### Menerima masukan 10 buah integer dan menjumlahkan totalnya\n"
   ]
  },
  {
   "cell_type": "code",
   "execution_count": null,
   "metadata": {},
   "outputs": [],
   "source": [
    "# Program Jumlah10Angka\n",
    "# Menerima masukan 10 buah integer dan \n",
    "# menjumlahkan totalnya\n",
    "\n",
    "# KAMUS\n",
    "# N, i, sum : int\n",
    "\n",
    "# ALGORITMA\n",
    "sum = 0                 # Inisialisasi\n",
    "\n",
    "for i in range(1, 11):\n",
    "    N = int(input())    # Aksi\n",
    "    sum = sum + N       # Aksi\n",
    "\n",
    "print(sum)              # Terminasi\n"
   ]
  },
  {
   "cell_type": "markdown",
   "metadata": {},
   "source": [
    "## Contoh 3 - Program RataBilangan\n",
    "<span style=\"color:black;font-weight:100;font-size:35px\">\n",
    "<ul>\n",
    "<li> Buatlah program yang membaca sejumlah bilangan integer dari keyboard sampai pengguna memasukkan angka -999 (angka -999 tidak termasuk bilangan yang diolah). <br>\n",
    "<li> Tuliskan berapa banyak bilangan yang dimasukkan, nilai total, dan rata-rata semua bilangan <br>\n",
    "<li> Jika dari masukan pertama sudah menuliskan -999, maka tuliskan pesan “Tidak ada data yang diolah” <br><br>\n",
    "\n",
    "| No | Input | Output |\n",
    "|----|---|---|\n",
    "|1|-1 <br> 12 <br> -6 <br> 10 <br> 2 <br> -999 </br> |Banyak bilangan = 5 <br> Jumlah total = 17 <br> Rata-rata = 3.40|\n",
    "|2|-999|<b>Tidak ada data yang diolah</b>|\n",
    "\n",
    "<br>\n",
    "<li> Petunjuk: Gunakan pengulangan while </br></li><ul></span>\n"
   ]
  },
  {
   "cell_type": "code",
   "execution_count": null,
   "metadata": {},
   "outputs": [],
   "source": [
    "# Program RataBilangan\n",
    "# Menerima masukan sejumlah bilangan integer sampai pengguna memasukkan -999 dan dan menampilkan banyak bilangan, total, dan rata-ratanya\n",
    "\n",
    "# KAMUS\n",
    "# X, count, sum : int\n",
    "# rata : float\n",
    "\n",
    "# ALGORITMA\n",
    "sum = 0; count = 0     # Inisialisasi\n",
    "\n",
    "X = int(input())       # First-Elmt\n",
    "while (X != -999):\n",
    "    count = count + 1  # Aksi\n",
    "    sum = sum + X\n",
    "    X = int(input())   # Next-Elmt\n",
    "# X = -999\n",
    "\n",
    "# Terminasi\n",
    "if (count > 0):\n",
    "    print(\"Banyaknya bilangan = \" + str(count))\n",
    "    print(\"Jumlah total = \" + str(sum))\n",
    "    rata = sum/count\n",
    "    print(\"Rata-rata = \" + str(rata))\n",
    "else:\n",
    "    print (\"Tidak ada data yang diolah\")"
   ]
  },
  {
   "cell_type": "markdown",
   "metadata": {},
   "source": [
    "# Latihan Soal\n",
    "## Soal 1\n",
    "\n",
    "<span style=\"color:black;font-weight:100;font-size:35px\">\n",
    "<ul> <li> Buatlah algoritma/program yang membaca sebuah nilai integer positif, misalnya N, dan menjumlahkan (serta menampilkan) semua bilangan kelipatan 5 antara 1 s.d. N.\n",
    "<br> Contoh : </br> </br>\n",
    "\n",
    "| No | Input N | Output | Keterangan |\n",
    "|:---:|:---:|:---:|---|\n",
    "| 1 | 5 | 5 | Hanya ada 1 bilangan kelipatan 5 antara 1 s.d. 5, yaitu 5 |\n",
    "| 2 | 26| 75| Bilangan kelipatan 5 antara 1 s.d. 26 adalah 5, 10, 15, 20, 25 <br> 5+10+15+20+25 = 75 </br> |\n",
    "| 3 | 4 | 0 | Tidak ada bilangan kelipatan 5 antara 1 s.d. 4 |\n",
    "\n",
    "</ul>\n",
    "</span>\n",
    "\n",
    "---------------------------"
   ]
  },
  {
   "cell_type": "markdown",
   "metadata": {},
   "source": [
    "## Solusi & Pembahasan Soal 1\n",
    "<span style=\"color:black;font-weight:100;font-size:35px\">\n",
    "Pengulangan yang paling tepat adalah for karena range nilai untuk pengulangan diketahui dengan pasti yaitu dari 1..N\n",
    "</span>"
   ]
  },
  {
   "cell_type": "markdown",
   "metadata": {},
   "source": [
    "**Pseudocode**\n",
    "```\n",
    "input(N)  { inisialisasi }\n",
    "sum ← 0  { inisialisasi }\n",
    "i traversal [1..N]\n",
    "    { aksi }\n",
    "    if (i mod 5 = 0) then {cek kelipatan 5}\n",
    "        sum ← sum + i\n",
    "output(sum)  { terminasi }\n",
    "```"
   ]
  },
  {
   "cell_type": "markdown",
   "metadata": {},
   "source": [
    "**Flowchart**"
   ]
  },
  {
   "cell_type": "code",
   "execution_count": null,
   "metadata": {},
   "outputs": [],
   "source": [
    "!pip install schemdraw"
   ]
  },
  {
   "cell_type": "code",
   "execution_count": null,
   "metadata": {},
   "outputs": [],
   "source": [
    "import schemdraw\n",
    "from schemdraw.flow import *\n",
    "\n",
    "with schemdraw.Drawing() as d:\n",
    "    d.config(fontsize=15)\n",
    "    d += (b := Start().label('Mulai'))\n",
    "    d+= Arrow().down(d.unit/5)\n",
    "\n",
    "    #Input the string \n",
    "    d+= Box(w = 4, h=1.5).label(\"input: (N)\\n sum ← 0\")\n",
    "    d+= Arrow().down(d.unit/5)\n",
    "\n",
    "    #Process for Decision \n",
    "    #looping If True\n",
    "    d+= Box(w = 3, h=1).label(\"i ← 1\")\n",
    "    d+= Arrow().down(d.unit/5)\n",
    "    d+= (decision1 := Decision(W='False', S='True').label('i <= N'))\n",
    "    d+= Arrow().down(d.unit/5)\n",
    "    d+= (decision2 := Decision(W='False', S='True').label('i mod 5 = 0'))\n",
    "    d+= Arrow().down(d.unit/5)\n",
    "    d+= Box(w = 3.5, h=1).label(\"sum ← sum + i\")\n",
    "    d+= Arrow().down(d.unit/5)\n",
    "    d+= (for1 := Box(w = 3, h=1).label(\"i ← i + i\"))\n",
    "    d+= Arrow().down(d.unit/5) \n",
    "    d+= (output := Box(w = 3, h=1).label(\"output(sum)\"))\n",
    "    d+= Arrow().down(d.unit/5) \n",
    "    \n",
    "    #End program\n",
    "    d+= (end := Terminal().label(\"Selesai\"))\n",
    "\n",
    "    #looping If false, c is shaped loop, k is length of shaped loop, arrow is end of shaped loop\n",
    "    d+= Wire('c', k=-2,  arrow='->').at(decision1.W).to(output.W)\n",
    "    d+= Wire('c', k=-1,  arrow='->').at(decision2.W).to(for1.W)\n",
    "    d+= Wire('c', k=1,  arrow='<-').at(decision1.E).to(for1.E)\n",
    "\n",
    "    d.save(\"output/Minggu_6_Soal_1_flowchart.jpeg\", dpi = 300)\n"
   ]
  },
  {
   "cell_type": "markdown",
   "metadata": {},
   "source": [
    "**Code Soal 1**"
   ]
  },
  {
   "cell_type": "code",
   "execution_count": null,
   "metadata": {},
   "outputs": [],
   "source": [
    "# Program SumKelipatan5\n",
    "# Menerima masukan N bilangan integer positif\n",
    "# dan menampilkan penjumlahan bilangan kelipatan 5 dari 1 s.d. N\n",
    "\n",
    "# KAMUS\n",
    "# N, i, sum : int\n",
    "\n",
    "# ALGORITMA\n",
    "# Masukan nilai N\n",
    "N = int(input(\"Masukkan nilai N = \"))\n",
    "\n",
    "# Menghitung penjumlahan bilangan kelipatan 5 antara 1 s.d. N\n",
    "sum = 0\n",
    "i=1 # First-Element\n",
    "# for i in range(1,N+1):\n",
    "\n",
    "output_list = []\n",
    "output_list_2 = []\n",
    "while(i<=N):\n",
    "    if (i % 5 == 0):\n",
    "        sum = sum + i\n",
    "        output_list.append(i)\n",
    "    else:\n",
    "        # print(\"Nomor \"+str(i)+\" ini tidak termasuk kelipatan 5 woy !!\")\n",
    "        output_list_2.append(i)\n",
    "    i = i + 1      # Next-Element\n",
    "\n",
    "print(\"Bilangan Kelipatan 5 : \",output_list)\n",
    "# output_list_2 = [i for i in range(1,10)]\n",
    "print(\"Bilangan tidak termasuk kelipatan 5 :\", output_list_2)\n",
    "print(\"Penjumlahan dari Bilangan Kelipatan 5 adalah \", sum)\n",
    "#     \n",
    "# Terminasi\n"
   ]
  },
  {
   "cell_type": "markdown",
   "metadata": {},
   "source": [
    "## Soal 2\n",
    "\n",
    "<span style=\"color:black;font-weight:100;font-size:35px\">\n",
    "<ul> <li> Buatlah algoritma/program yang membaca ada berapa banyak mahasiswa di kelas, misalnya N (Asumsi: N > 0, tidak perlu diperiksa)<br>\n",
    "<li> Selanjutnya, bacalah N buah character yang merepresentasikan nilai tugas KU1102. Nilai tugas yang mungkin adalah: ‘A’, ‘B’, ‘C’, ‘D’, ‘E’, ‘F’. Asumsikan masukan nilai selalu benar.<br>\n",
    "<li> Jika mahasiswa mendapatkan nilai: A’, ‘B’, ‘C’, atau ‘D’, maka mahasiswa dinyatakan lulus; sedangkan jika mendapat ‘E’ atau ‘F’ maka mahasiswa dinyatakan tidak lulus.<br>\n",
    "<li> Tuliskan ke layar berapa banyak mahasiswa yang lulus dan berapa yang tidak lulus.<br>\n",
    "Contoh : </br> </br>\n",
    "\n",
    "| No | Input N | Input Nilai KU1102 | Output |\n",
    "|:---:|:---:|:---:|---|\n",
    "| 1 | 7 | A <br> B <br> C <br> A <br> A <br> E <br> D </br>| Lulus = 6 <br> Tidak Lulus = 1 </br> |\n",
    "| 2 | 5 | A <br> B <br> B <br> A <br> A </br>              | Lulus = 5 <br> Tidak Lulus = 0 </br> |\n",
    "| 3 | 5 | E <br> E <br> E <br> E <br> E </br>              | Lulus = 0 <br> Tidak Lulus = 5 </br> |\n",
    "\n",
    "</ul>\n",
    "</span>\n",
    "\n",
    "---------------------------"
   ]
  },
  {
   "cell_type": "markdown",
   "metadata": {},
   "source": [
    "## Solusi & Pembahasan Soal 2\n",
    "<span style=\"color:black\n",
    "=;font-weight:100;font-size:35px\">\n",
    "<ul><li> Pengulangan yang paling tepat adalah for karena range nilai untuk pengulangan diketahui dengan pasti yaitu dari 1..N <br>\n",
    "<li> Kurang tepat menggunakan while karena tidak ada kemungkinan kasus “kosong”\n",
    "</br></ul>\n",
    "</span>"
   ]
  },
  {
   "cell_type": "markdown",
   "metadata": {},
   "source": [
    "**Code Soal 2**"
   ]
  },
  {
   "cell_type": "code",
   "execution_count": null,
   "metadata": {},
   "outputs": [],
   "source": [
    "# Program Tugas\n",
    "# Menerima masukan N buah nilai tugas (A s.d. F) dan menuliskan berapa yang\n",
    "# lulus dan tidak lulus dan Bukan Nilai\n",
    "\n",
    "# KAMUS\n",
    "# N, i : int\n",
    "# nilai : char\n",
    "# lulus, notlulus, bukannilai : int\n",
    "\n",
    "# ALGORITMA\n",
    "# Masukan nilai N\n",
    "N = int(input(\"Banyaknya mahasiswa = \"))\n",
    "\n",
    "# Masukkan nilai, sekaligus menghitung lulus dan tidak\n",
    "lulus = 0; notlulus = 0; bukannilai=0\n",
    "print(\"Masukkan nilai setiap mahasiswa.\")\n",
    "for i in range(1,N+1):\n",
    "    nilai = input(\"Mahasiswa-\" + str(i) + \" = \")\n",
    "    if (nilai == 'A' or nilai == 'B' or nilai == 'C' or nilai == 'D'):\n",
    "        lulus = lulus + 1\n",
    "    elif(nilai == 'E' or nilai == 'F'):\n",
    "        # nilai == 'E' atau 'F'\n",
    "        notlulus = notlulus + 1\n",
    "    else:\n",
    "        bukannilai=bukannilai+1\n",
    "\n",
    "# Terminasi\n",
    "print(\"Lulus = \" + str(lulus))\n",
    "print(\"Tidak lulus = \" + str(notlulus))\n",
    "print(\"Tidak termasuk Nilai = \" + str(bukannilai))"
   ]
  },
  {
   "cell_type": "markdown",
   "metadata": {},
   "source": [
    "## Soal 3\n",
    "\n",
    "<span style=\"color:black;font-weight:100;font-size:35px\">\n",
    "<ul> <li> Buatlah algoritma/program untuk membaca sekumpulan bilangan bulat (integer) positif. <br> Pembacaan data diakhiri jika pengguna memasukkan nilai negatif.<br>\n",
    "<li> Selanjutnya, cetaklah berapa banyak bilangan genap dan ganjil. <br>\n",
    "<li> Angka \"0\" adalah bilangan genap. <br>\n",
    "Contoh : </br> </br>\n",
    "\n",
    "| No | Input | Output | Keterangan |\n",
    "|:---:|:---:|:---:|---|\n",
    "| 1 | 7 <br> 8 <br> 0 <br> 9 <br> 10 <br> -1 </br>| Genap = 3 <br> Ganjil = 2 </br> | |\n",
    "| 2 | 4 <br> 10 <br> 6 <br> -111 </br>            | Genap = 3 <br> Ganjil = 0 </br> | |\n",
    "| 3 | 5 <br> 17 <br> -234 </br>                   | Genap = 0 <br> Ganjil = 2 </br> | |\n",
    "| 4 | -99                                         | Genap = 0 <br> Ganjil = 0 </br> | <b>Tidak ada bilangan positif yang dimasukkan</b> |\n",
    "\n",
    "\n",
    "</ul>\n",
    "</span>\n",
    "\n",
    "---------------------------"
   ]
  },
  {
   "cell_type": "markdown",
   "metadata": {},
   "source": [
    "## Solusi & Pembahasan Soal 3\n",
    "<span style=\"color:black;font-weight:100;font-size:35px\">\n",
    "<ul><li> Pengulangan yang paling tepat digunakan adalah while <br>\n",
    "    <ul><li>Ada kemungkinan Aksi tidak pernah dilakukan sama sekali (kasus kosong), yaitu jika nilai X yang pertama kali dimasukkan user adalah nilai negatif.</li></ul></br>\n",
    "<li> <b>for</b> tidak tepat digunakan karena tidak terdifinisi <i>range</i> nilainya\n",
    "</ul>\n",
    "</span>"
   ]
  },
  {
   "cell_type": "markdown",
   "metadata": {},
   "source": [
    "**Code Soal 3**"
   ]
  },
  {
   "cell_type": "code",
   "execution_count": null,
   "metadata": {},
   "outputs": [],
   "source": [
    "# Program GenapGanjil\n",
    "# Menerima masukan sejumlah bilangan integer sampai pengguna memasukkan\n",
    "# nilai negatif dan menampilkan banyak bilangan genap dan ganjil\u000b\n",
    "\n",
    "# KAMUS\n",
    "# X, countgenap, countganjil : int\n",
    "\n",
    "# ALGORITMA\n",
    "countgenap = 0                    # Inisialisasi \n",
    "countganjil = 0                   # Inisialisasi\n",
    "\n",
    "X = int(input())                  # First-Elmt\n",
    "while (X >= 0):\n",
    "    # cek ganjil atau genap\n",
    "    if (X % 2 == 0): # X genap\n",
    "        countgenap = countgenap + 1\n",
    "    else: # X ganjil\n",
    "        countganjil = countganjil + 1   \n",
    "    X = int(input())              # Next-Elmt\n",
    "\n",
    "# Terminasi\n",
    "print(\"Bilangan genap ada = \" + str(countgenap))\n",
    "print(\"Bilangan ganjil ada = \" + str(countganjil))"
   ]
  },
  {
   "cell_type": "markdown",
   "metadata": {},
   "source": [
    "## Soal 4\n",
    "### Lagu Anak Ayam\n",
    "<span style=\"color:black;font-weight:100;font-size:35px\">\n",
    "<ul> <li> Masih ingatkah dengan lagu Anak Ayam??<br>\n",
    "\n",
    "[![](https://markdown-videos-api.jorgenkh.no/youtube/bY7HatQKB6U)](https://youtu.be/bY7HatQKB6U)\n",
    "\n",
    "<li> Buatlah <b>3 versi </b> program yang menerima masukan sebuah integer positif, misalnya N (asumsi N>0), dan menuliskan lirik lagu Anak Ayam di bawah dengan menggunakan perulangan <b>for, do-while, dan while</b>.<br>\n",
    "Contoh Lirik: </br> </br>\n",
    "\n",
    "|Anak ayam turunlah 5 <br> Mati satu tinggallah 4 <br> Mati satu tinggallah 3 <br> Mati satu tinggallah 2 <br> Mati satu tinggallah 1 <br> Mati satu tinggal induknya </br>| Algoritma <br> &#8594; | Anak ayam turunlah N <br> Mati satu tinggallah N-1 <br> Mati satu tinggallah N-2 <br> …. <br> Mati satu tinggallah 1 <br> Mati satu tinggal induknya </br>\n",
    "|---|:---:|---|\n",
    "\n",
    "</br>\n",
    "<li>Berikan komentar, apakah masing-masing jenis pengulangan tepat untuk persoalan ini.\n",
    "\n",
    "\n",
    "</ul>\n",
    "</span>\n",
    "\n",
    "---------------------------"
   ]
  },
  {
   "cell_type": "markdown",
   "metadata": {},
   "source": [
    "## Solusi & Pembahasan Soal 4\n",
    "<span style=\"color:whiblackte;font-weight:100;font-size:35px\">\n",
    "<ul><li> Pengulangan digunakan untuk mencetak kalimat “Mati satu tinggallah…” <br>\n",
    "<li> Pengulangan mencetak banyaknya anak ayam dari N-1 s.d. 1 (mundur) <br>\n",
    "<li> Jika N = 1, kalimat “Mati satu tinggallah…” tidak pernah dicetak 🡆 kasus kosong <br>\n",
    "<li> <b>for:</b> kasus kosong harus dicegah memasuki <i>loop</i> dengan menggunakan <b>if-else</b> <br>\n",
    "<li> <b>while:</b> paling aman karena kasus kosong ditangani dengan menyatakan kondisi pengulangan di awal </br>\n",
    "</ul>\n",
    "</span>"
   ]
  },
  {
   "cell_type": "markdown",
   "metadata": {},
   "source": [
    "**Code Soal 4 - Python *For***"
   ]
  },
  {
   "cell_type": "code",
   "execution_count": null,
   "metadata": {},
   "outputs": [],
   "source": [
    "# Program AnakAyam-1\n",
    "# Menuliskan lagu anak ayam berdasarkan masukan \n",
    "# jumlah anak ayam\n",
    "# Versi menggunakan for\n",
    "\n",
    "# KAMUS\n",
    "# N, i : int\n",
    "\n",
    "# ALGORITMA\n",
    "N = int(input(\"Masukkan jumlah anak ayam = \"))\n",
    "\n",
    "print(\"Anak ayam turunlah \" + str(N))\n",
    "if (N > 1):\n",
    "    for i in range(N-1,0,-1):\n",
    "        print(\"Mati satu tinggallah \" + str(i))\n",
    "        \n",
    "print(\"Mati satu tinggal induknya\")"
   ]
  },
  {
   "cell_type": "markdown",
   "metadata": {},
   "source": [
    "**Code Soal 4 - Python *While***"
   ]
  },
  {
   "cell_type": "code",
   "execution_count": null,
   "metadata": {},
   "outputs": [],
   "source": [
    "# Program AnakAyam-2\n",
    "# Menuliskan lagu anak ayam berdasarkan masukan jumlah anak ayam\n",
    "# Versi menggunakan while\n",
    "\n",
    "# KAMUS\n",
    "# N, i : int\n",
    "\n",
    "# ALGORITMA\n",
    "N = int(input(\"Masukkan jumlah anak ayam = \"))\n",
    "\n",
    "print(\"Anak ayam turunlah \" + str(N))\n",
    "i = N-1\n",
    "while (i >= 1):\n",
    "    print(\"Mati satu tinggallah \" + str(i))\n",
    "    i-=1  # i=i-1\n",
    "# i < 1\n",
    "\n",
    "print(\"Mati satu tinggal induknya\")"
   ]
  },
  {
   "cell_type": "markdown",
   "metadata": {},
   "source": [
    "## Soal 5\n",
    "### Menghitung Luas di bawah Kurva\n",
    "<span style=\"color:black;font-weight:100;font-size:35px\">\n",
    "<ul> <li> Untuk menghitung luas daerah dari suatu kurva yang dibentuk dengan rumus dapat dilakukan dengan menggunakan integral melalui menggunakan pendekatan numerik.\n",
    "<br>\n",
    "<li> Pendekatan numerik akan memotong-motong daerah dengan interval tertentu, kemudian dihitung luas masing-masing potongan daerah tersebut dengan menggunakan rumus trapesium secara berulang-ulang. <br>\n",
    "<li> Buatlah algoritma/program untuk persoalan berikut. </li>\n",
    "</ul>\n",
    "\n",
    "---------------------------"
   ]
  },
  {
   "cell_type": "code",
   "execution_count": null,
   "metadata": {},
   "outputs": [],
   "source": [
    "import numpy as np\n",
    "import math\n",
    "import matplotlib.pyplot as plt\n",
    "from matplotlib.patches import Rectangle\n",
    "from matplotlib.patches import Polygon\n",
    "\n",
    "f = lambda x : eval(func)\n",
    "\n",
    "# math functions\n",
    "\n",
    "def area_trapezoids(graph):\n",
    "    nsum = 0\n",
    "    dx = (bnd_r-bnd_l)/s_int\n",
    "    last_height = f(bnd_l)\n",
    "    for i in range(0, s_int):\n",
    "        right_height = f(bnd_l+(dx*(i+1)))\n",
    "        nsum += (last_height + right_height)/2\n",
    "        last_height = right_height\n",
    "        if graph: graph_trapezoid(bnd_l+(dx*i), dx, f)\n",
    "    return nsum*dx\n",
    "\n",
    "\n",
    "# input function\n",
    "def compile_func(str):\n",
    "    str = str.replace('ln', 'np.log').replace('e', 'math.e')\n",
    "    str = str.replace('^', '**')\n",
    "    str = str.replace('sqrt', 'np.sqrt')\n",
    "    str = str.replace('sin', 'np.sin').replace('cos', 'np.cos').replace('tan', 'np.tan')\n",
    "    # try to remove the possibility of malicious code injection\n",
    "    str = str.replace('_', '').replace('\\\"', '').replace('[', '').replace(']', '')\n",
    "    str = str.strip()\n",
    "    return compile(str, 'input', 'eval')\n",
    "\n",
    "# graph functions\n",
    "fig, ax = plt.subplots()\n",
    "def graph_func():\n",
    "    nums = np.linspace(int(bnd_l), int(bnd_r), int((bnd_r-bnd_l)*100))\n",
    "    ax.plot(nums, f(nums), color='blue')\n",
    "    ax.plot([bnd_l, bnd_r], [0, 0], color='gray', alpha=1)\n",
    "\n",
    "def graph_trapezoid(x, w, func):\n",
    "    x_cords = [x, x+w, x+w      , x      ]\n",
    "    y_cords = [0, 0  , func(x+w), func(x)]\n",
    "    ax.add_patch(Polygon(xy=list(zip(x_cords,y_cords)), alpha=0.1, color='red'))\n",
    "    \n",
    "print('multiplication must have an asterisk (*) seperating factors')\n",
    "func = compile_func(input('y = '))\n",
    "bnd_l = float(input('left bound: '))\n",
    "bnd_r = float(input('right bound: '))\n",
    "s_int = int(input ('sub-intervals: '))\n",
    "graph = True if input('graph func (y/n): ').lower() == 'y' else False\n",
    "\n",
    "print('area with trapezoids: {:0.3f}'.format(area_trapezoids(graph)))\n",
    "graph_func()\n",
    "try:\n",
    "    if graph: plt.show()\n",
    "except KeyboardInterrupt:\n",
    "    exit()"
   ]
  }
 ],
 "metadata": {
  "kernelspec": {
   "display_name": "geo",
   "language": "python",
   "name": "python3"
  },
  "language_info": {
   "codemirror_mode": {
    "name": "ipython",
    "version": 3
   },
   "file_extension": ".py",
   "mimetype": "text/x-python",
   "name": "python",
   "nbconvert_exporter": "python",
   "pygments_lexer": "ipython3",
   "version": "3.9.6"
  },
  "orig_nbformat": 4
 },
 "nbformat": 4,
 "nbformat_minor": 2
}
