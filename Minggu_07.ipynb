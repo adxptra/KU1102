{
 "cells": [
  {
   "cell_type": "markdown",
   "metadata": {},
   "source": [
    "<div style='background-image: url(\"./share/header.png\") ; padding: 0px ; background-size: cover ; border-radius: 5px ; height: 400px'>\n",
    "    <div style=\"float: right ; margin: 100px ; padding: 10px ; background: rgba(255 , 255 , 255 , 0.7) ; width: 53% ; height: 100px\">\n",
    "        <div style=\"position: relative ; top: 50% ; transform: translatey(-50%)\">\n",
    "            <div style=\"font-size: xxx-large ; font-weight: 750 ; color: rgba(0 , 0 , 0 , 0.8) ; line-height: 100%\"> Array dan Pemrosesan (Python) </div>\n",
    "            <div style=\"font-size: xx-large ; padding-top: 10px ; color: rgba(0 , 0 , 0 , 0.5)\">KU1102</div>\n",
    "        </div>\n",
    "    </div>\n",
    "</div>"
   ]
  },
  {
   "cell_type": "markdown",
   "metadata": {},
   "source": [
    "# Minggu 07\n",
    "<span style=\"color:black;font-weight:100;font-size:35px\">\n",
    "<ul>\n",
    "<li> Menjelaskan definisi dan kegunaan array\n",
    " <br>\n",
    "<li> Menggunakan menggunakan notasi pendefinisian dan pengacuan array  dengan benar \n",
    " <br>\n",
    "<li> Melakukan pemrosesan sekuensial pada array\n",
    " <br>\n",
    "</li>\n",
    "</ul>\n",
    "</span>\n"
   ]
  },
  {
   "cell_type": "markdown",
   "metadata": {},
   "source": [
    "# Pemrosesan Sekuensial pada Array\n",
    "## Mengisi Array\n",
    "\n",
    "- Buatlah program yang mendeklarasikan sebuah array of integer (array dengan elemen bertype integer) sebesar 10 buah dan mengisinya dengan nilai yang dibaca dari keyboard.\n",
    "\n",
    "- Hati-hati untuk tidak mengakses elemen di luar batas indeks array!"
   ]
  },
  {
   "cell_type": "code",
   "execution_count": 1,
   "metadata": {},
   "outputs": [],
   "source": [
    "# Program IsiArray\n",
    "# Mengisi array dengan nilai dari \n",
    "# pengguna \n",
    "\n",
    "# KAMUS\n",
    "# TabInt : array [0..9] of int\n",
    "# i : int\n",
    "\n",
    "# ALGORITMA \n",
    "# Deklarasi array TabInt dan \n",
    "# mengisinya dengan nilai default 0\n",
    "TabInt = [0 for i in range(10)]\n",
    "\n",
    "# Mengisi array dari pembacaan nilai \n",
    "# dari keyboard\n",
    "for i in range(0,10):\n",
    "    TabInt[i] = int(input())\n"
   ]
  },
  {
   "cell_type": "markdown",
   "metadata": {},
   "source": [
    "## Menuliskan Isi Array\n",
    "- Buatlah program yang:\n",
    "  - mendeklarasikan sebuah array of integer (array dengan elemen bertype integer) sebesar 10 buah \n",
    "  - mengisinya dengan nilai yang dibaca dari keyboard\n",
    "  - menuliskan kembali apa yang disimpan dalam array ke layar\n",
    "\n",
    "- Hati-hati untuk tidak mengakses elemen di luar batas indeks array!\n"
   ]
  },
  {
   "cell_type": "code",
   "execution_count": null,
   "metadata": {},
   "outputs": [],
   "source": [
    "# Program TulisArray\n",
    "# Mengisi array dengan nilai dari \n",
    "# pengguna dan menuliskan isinya ke \n",
    "# layar\n",
    "\n",
    "# KAMUS\n",
    "# TabInt : array [0..9] of int\n",
    "# i : int\n",
    "\n",
    "# ALGORITMA \n",
    "# Deklarasi array TabInt dan \n",
    "# mengisinya dengan nilai default 0\n",
    "TabInt = [0 for i in range(10)]\n",
    "\n",
    "# Mengisi array dari pembacaan nilai \n",
    "# dari keyboard\n",
    "for i in range(0,10):\n",
    "    TabInt[i] = int(input())\n",
    "\n",
    "# Mencetak isi array\n",
    "for i in range(0,10):\n",
    "    print(TabInt[i])\n"
   ]
  },
  {
   "cell_type": "markdown",
   "metadata": {},
   "source": [
    "## Menghitung Rata-rata\n",
    "\n",
    "- Buatlah program untuk menghitung rata-rata nilai elemen suatu array.\n",
    "\n",
    "- Tahapan:\n",
    "  - Deklarasikan array, contoh array of integer ukuran 10\n",
    "  - Isi elemen array\n",
    "  - Jumlahkan semua elemen array\n",
    "  - Bagi hasil penjumlahan elemen array dengan banyaknya elemen array dan tampilkan hasilnya\n"
   ]
  },
  {
   "cell_type": "code",
   "execution_count": null,
   "metadata": {},
   "outputs": [],
   "source": [
    "# Program AverageArray\n",
    "# Menghitung nilai rata-rata elemen array\n",
    "\n",
    "# KAMUS\n",
    "# TabInt : array [0..9] of int\n",
    "# i : int\n",
    "# sum : int\n",
    "\n",
    "# ALGORITMA \n",
    "# Deklarasi array TabInt dan mengisinya dengan \n",
    "# nilai default 0\n",
    "TabInt = [0 for i in range(10)]\n",
    "\n",
    "# Mengisi array dari pembacaan nilai dari keyboard\n",
    "for i in range(0,10):\n",
    "    TabInt[i] = int(input())\n",
    "\n",
    "# Menjumlahkan elemen array\n",
    "sum = 0\n",
    "for i in range(0,10):\n",
    "    sum = sum + TabInt[i]\n",
    "\n",
    "# Menghitung nilai rata-rata dan menampilkannya\n",
    "rata = sum/10\n",
    "print (\"Nilai rata-rata = \" + str(rata))"
   ]
  },
  {
   "cell_type": "markdown",
   "metadata": {},
   "source": [
    "# Latihan Soal"
   ]
  },
  {
   "cell_type": "markdown",
   "metadata": {},
   "source": [
    "## Latihan-1\n",
    "\n",
    "- Buatlah sebuah program yang berisi sebuah array dengan elemen integer berukuran 20, misalnya T\n",
    "- Anggaplah sudah ada bagian program yang digunakan untuk mengisi array T\n",
    "  - Lihat slide tentang pengisian array dari keyboard\n",
    "- Program menerima masukan sebuah integer, misalnya X  \n",
    "- Selanjutnya, program mengalikan semua elemen array T dengan X dan mencetak semua elemen T yang baru ke layar.\n",
    "\n",
    "Contoh :\n",
    " \n",
    "T = [4, 1, 3, 4, 5, 6, 8, 9, 12, 30, -1, 0, 4, -1, 3, 10, 14, 6, 7, 0]\n",
    "\n",
    "X = 3\n",
    "\n",
    "Setelah elemen T dikalikan X\n",
    "\n",
    "T = [12, 3, 9, 12, 15, 18, 24, 27, 36, 90, \n",
    "         -3, 0, 12, -3, 9, 30, 42, 18, 21, 0]\n",
    "\n"
   ]
  },
  {
   "cell_type": "markdown",
   "metadata": {},
   "source": [
    "## Latihan-2\n",
    "\n",
    "- Nilai mahasiswa untuk suatu mahasiswa dinyatakan dalam bentuk huruf, yaitu A, B, C, D, dan E. \n",
    "- Di ITB ada nilai AB dan BC, tapi untuk menyederhanakan persoalan kedua nilai tersebut diabaikan\n",
    "- Sebuah program menerima data nilai 50 mahasiswa di sebuah kelas dalam bentuk indeks huruf seperti di atas dan disimpan dalam sebuah array of character.\n",
    "- Tentukanlah berapa banyak mahasiswa yang lulus dan berapa yang tidak lulus. Mahasiswa dinyatakan lulus jika mendapatkan nilai A, B, atau C. Selebihnya, tidak lulus."
   ]
  },
  {
   "cell_type": "markdown",
   "metadata": {},
   "source": [
    "# Pencarian Nilai Ekstrem (Minimum atau Maksimum)"
   ]
  },
  {
   "cell_type": "markdown",
   "metadata": {},
   "source": [
    "- Mencari nilai terbesar atau terkecil dari elemen suatu array\n",
    "\n",
    "- Diketahui:\n",
    "    - Sebuah array T dengan ukuran N elemen\n",
    "    - Nilai X (bertype sama dengan elemen T)\n",
    "    - Buatlah program untuk menuliskan ke layar nilai terbesar dari elemen T\n",
    "\n",
    "- Asumsi: T tidak kosong (minimum 1 elemen, N > 0)\n",
    "\n",
    "- Contoh: \n",
    "    \n",
    "    N = 10; T berisi: [9,12,30,-1,0,4,-1,3,30,14] maka nilai terbesar = 30\n",
    "    \n",
    "    N = 8; T berisi: [1, 3, 5, 8, -12, 90, 3, 5] maka nilai terbesar = 90\n",
    "\n"
   ]
  },
  {
   "cell_type": "code",
   "execution_count": null,
   "metadata": {},
   "outputs": [],
   "source": [
    "# Program MaxArray\n",
    "# Mencari nilai terbesar pada array\n",
    "\n",
    "# KAMUS\n",
    "# N : int\n",
    "# T : array [0..N-1] of int\n",
    "# i : int\n",
    "# max : int\n",
    "\n",
    "# ALGORITMA\n",
    "N = 10  # assign N dengan ukuran T\n",
    "# Asumsi: pengisian array sudah dibuat\n",
    "# Tetap harus dibuat untuk mengetes program\n",
    "\n",
    "# Mencari nilai maksimum\n",
    "max = T[0]   # init max dgn elemen pertama\n",
    "\n",
    "# Pencarian dimulai dari elemen ke-2\n",
    "for i in range(1,N):\n",
    "    # jika ada elemen > max, ganti nilai max\n",
    "    if (T[i] > max):\n",
    "        max = T[i]\n",
    "\n",
    "# Cetak nilai terbesar\n",
    "print (\"Nilai terbesar = \" + str(max))"
   ]
  },
  {
   "cell_type": "markdown",
   "metadata": {},
   "source": [
    "## Latihan-3\n",
    "Berdasarkan contoh soal sebelumnya, buatlah program untuk mencari nilai terkecil dari elemen T."
   ]
  },
  {
   "cell_type": "markdown",
   "metadata": {},
   "source": [
    "# Searching\n",
    "## Mencari Indeks Pertama Kemunculan Nilai"
   ]
  },
  {
   "cell_type": "markdown",
   "metadata": {},
   "source": [
    "- Searching adalah proses yang penting dalam pemrosesan tabel karena sering dilakukan terhadap sekumpulan data yang disimpan dalam tabel\n",
    "- Diketahui:\n",
    "  - Sebuah array T dengan ukuran N elemen\n",
    "  - Nilai X (bertype sama dengan elemen T)\n",
    "\n",
    "- Buatlah program untuk menuliskan ke layar indeks pertama di T di mana X ditemukan\n",
    "- Asumsikan: Array tidak kosong (minimum 1 elemen, N > 0)\n",
    "- Contoh: \n",
    "  \n",
    "  N = 10; T berisi: [9,12,30,-1,0,4,-1,3,30,14]; X = -1 maka X ditemukan pertama kali di indeks 3\n",
    "  \n",
    "  N = 8; T berisi: [1, 3, 5, 8, -12, 90, 3, 5]; X = 0 maka X tidak ditemukan di T"
   ]
  },
  {
   "cell_type": "code",
   "execution_count": null,
   "metadata": {},
   "outputs": [],
   "source": [
    "# Program SearchArray\n",
    "# Mencari indeks di mana X ditemukan pertama kali di T\n",
    "# KAMUS\n",
    "# N : int; ukuran T\n",
    "# T : array [0..N-1] of int\n",
    "# i, X : int\n",
    "# found : bool; menentukan X sdh ditemukan/belum\n",
    "\n",
    "# ALGORITMA\n",
    "# Asumsi: input array sudah dibuat; N terdefinisi\n",
    "\n",
    "# Membaca nilai yang dicari, yaitu X\n",
    "X = int(input())\n",
    "\n",
    "# Pencarian dimulai dari elemen ke-2\n",
    "i = 0\n",
    "found = False  # found = False; X belum ditemukan\n",
    "while (i < N and found == False):\n",
    "    if (T[i] == X):\n",
    "        found = True   # found = True; X sudah ditemukan\n",
    "    else:\n",
    "        i = i + 1      # hanya increment jika X belum ditemukan\n",
    "# i = N atau found = True\n",
    "\n",
    "# Cetak Hasil\n",
    "if (found == True):  # X ditemukan di T\n",
    "    print (str(X) + \" ditemukan di indeks ke-\" + str(i))\n",
    "else:  # found = False; X tidak ditemukan di T\n",
    "    print (str(X) + \" tidak ditemukan\")"
   ]
  },
  {
   "cell_type": "markdown",
   "metadata": {},
   "source": [
    "## Latihan-4\n",
    "\n",
    "- Berdasarkan contoh sebelumnya, buatlah program untuk mencari indeks terakhir di mana X ditemukan di T.\n",
    "- Petunjuk: proses pencarian dilakukan “mundur”, yaitu dari indeks elemen terakhir ke elemen pertama.\n",
    "  - Modifikasi apa yang harus dilakukan terhadap algoritma sebelumnya?\n",
    "  "
   ]
  },
  {
   "cell_type": "markdown",
   "metadata": {},
   "source": [
    "## Latihan-5\n",
    "\n",
    "- Sebuah vektor v = (v0, v1, v2, v3, v4) direpresentasikan sebagai suatu array of integer dengan 5 buah elemen. \n",
    "- Diketahui dua buah vektor, masing-masing terdiri atas 5 elemen, misalnya V dan U.\n",
    "- Tuliskan hasil penjumlahan kedua vektor.\n",
    "- Penjumlahan dua vektor menghasilkan vektor lain, W, dengan elemen ke-i adalah: \n",
    "    \n",
    "    Wi = Vi + Ui\n",
    "\t\n",
    "    W = U + V = (v0, v1, v2, v3, v4) + (u0, u1, u2, u3, u4)\n",
    "\t               \n",
    "    W = (v0+u0, v1+u1, v2+u2, v3+u3, v4+u4)\n"
   ]
  },
  {
   "cell_type": "markdown",
   "metadata": {},
   "source": [
    "## Latihan-6\n",
    "- BMKG Kota Bandung setiap hari mencatat suhu harian kota Bandung (dalam derajat Celsius) berdasarkan data dari berbagai sensor temperatur. Data suhu harian ini dibutuhkan untuk berbagai analisis iklim dan cuaca.\n",
    "- Sebuah program digunakan untuk mencatat suhu kota Bandung selama bulan September 2018 (30 hari). \n",
    "- Data suhu dalam bentuk bilangan riil.\n",
    "- Tuliskan: \n",
    "  - Rata-rata suhu kota Bandung di bulan Sept. 2018\n",
    "  - Suhu terendah di bulan Sept. 2018.\n",
    "  - Pada tanggal berapa saja di bulan Sept. 2018, suhu harian kota Bandung ≥ 30 derajat Celsius.\n",
    "  - Pada tanggal berapa pertama kali di bulan Sept. 2018, kota Bandung mengalami suhu di bawah 15 derajat Celcius (jika terjadi). Jika tidak pernah terjadi, tuliskan: “Suhu tidak pernah di bawah 15 derajat Celcius”.\n",
    "- Perhatian:\n",
    "- - Tanggal dalam bulan September 2018 adalah dari tanggal 1 s.d. 30. Jika tanggal \n",
    "  direpresentasikan sebagai indeks array, perhatikan bahwa indeks array di Python dimulai dari 0 (apa yang harus dilakukan?).\n",
    "\n",
    "\n",
    "\n",
    "\n"
   ]
  }
 ],
 "metadata": {
  "kernelspec": {
   "display_name": "geo",
   "language": "python",
   "name": "python3"
  },
  "language_info": {
   "codemirror_mode": {
    "name": "ipython",
    "version": 3
   },
   "file_extension": ".py",
   "mimetype": "text/x-python",
   "name": "python",
   "nbconvert_exporter": "python",
   "pygments_lexer": "ipython3",
   "version": "3.9.6"
  },
  "orig_nbformat": 4
 },
 "nbformat": 4,
 "nbformat_minor": 2
}
