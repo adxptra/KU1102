{
 "cells": [
  {
   "cell_type": "markdown",
   "metadata": {},
   "source": [
    "<div style='padding: 0px ; background-size: auto 110%; border-radius: 5px ; height: 400px'>\n",
    "    <div style=\"float: right ; margin: 150px ; padding:10px ; background: rgba(255 , 255 , 255 , 0.7) ; width: 53% ; height: 100px\">\n",
    "        <div style=\"position: relative ; top: 10% ; transform: translatey(-10%)\">\n",
    "            <div style=\"font-size: xxx-large ; font-weight: 750 ; color: rgba(0 , 0 , 0 , 0.8) ; line-height: 100%\">  Data Analysis & Analisis Deskriptif dengan Pandas </div>\n",
    "            <div style=\"font-size: xx-large ; padding-top: 10px ; color: rgba(0 , 0 , 0 , 0.5)\">KU1102</div>\n",
    "        </div>\n",
    "    </div>\n",
    "</div>"
   ]
  },
  {
   "cell_type": "markdown",
   "metadata": {},
   "source": [
    "# Pandas\n",
    "\n",
    "Pandas = Python Data Analysis Library\n",
    "Dikembangkan We McKinney 2008\n",
    "Sebuah library open source yang menyediakan model data terstruktur dan fungsi manipulasi dan analisis data dalam lingkungan bahasa pemrograman Python\n",
    "Instalasi Pandas: dalam paket Anaconda (http://www.anaconda.com)\n",
    "Model data pada Pandas disebut DataFrame: data dalam bentuk tabular (tabel dengan kolom dan baris)\n",
    "\n",
    "![picture](https://pandas.pydata.org/static/img/pandas_white.svg)\n",
    "\n",
    "Source : (https://pandas.pydata.org/)"
   ]
  },
  {
   "cell_type": "markdown",
   "metadata": {},
   "source": [
    "# Minggu 12\n",
    "\n",
    "**Objektif**\n",
    "- Mahasiswa memahami latar belakang dan pentingnya data analisis\n",
    "- Mahasiswa dapat membedakan terminologi Data, Informasi, Knowledge, Wisdom (DIKW)\n",
    "- Mahasiswa mengerti lingkup dan workflow Data Analisis \n",
    "- **Mahasiswa dapat mempraktikkan teknik dalam Descriptive Analytics dan EDA untuk melakukan analisis data sederhana dengan menggunakan Python Pandas**\n",
    "\n",
    "\n",
    "**Motivasi**\n",
    "- Bigdata dan IoT\n",
    "- Information Overload\n",
    "- People are getting stupider?\n"
   ]
  },
  {
   "cell_type": "markdown",
   "metadata": {},
   "source": [
    "![picture](https://res.cloudinary.com/practicaldev/image/fetch/s--0NjKq1sP--/c_imagga_scale,f_auto,fl_progressive,h_420,q_auto,w_1000/https://dev-to-uploads.s3.amazonaws.com/i/ahxftwer1lt7514gwfsr.png)"
   ]
  },
  {
   "cell_type": "markdown",
   "metadata": {},
   "source": [
    "**Cara umum untuk menginstal paket adalah:**\n",
    "\n",
    "```python\n",
    "pip install <package_name>\n",
    "```\n",
    "Contoh :\n",
    "``` python\n",
    "pip install pandas\n",
    "```\n"
   ]
  },
  {
   "cell_type": "code",
   "execution_count": null,
   "metadata": {},
   "outputs": [],
   "source": [
    "!pip install pandas"
   ]
  },
  {
   "cell_type": "markdown",
   "metadata": {},
   "source": [
    "# Create Dataframe"
   ]
  },
  {
   "cell_type": "code",
   "execution_count": null,
   "metadata": {},
   "outputs": [],
   "source": [
    "import pandas as pd\n",
    "dataMhs = {\"NIM\": [\"16519001\", \"16519002\", \"16519003\"], \n",
    "           \"Nama\" : [\"Bin Bin\", \"Atung\", \"Kaka\"], \n",
    "           \"NilaiPTIB\": [75, 80, 90]}\n",
    "df1 = pd.DataFrame(data=dataMhs)\n",
    "print(df1)"
   ]
  },
  {
   "cell_type": "code",
   "execution_count": null,
   "metadata": {},
   "outputs": [],
   "source": [
    "d = {\"one\" : pd.Series([1.,2.,3.], index=[\"a\",\"b\",\"c\"]),\n",
    "     \"two\" : pd.Series([1.,2.,3.,4.], index=[\"a\",\"b\",\"c\",\"d\"])}\n",
    "df2 = pd.DataFrame(d)\n",
    "print(df2)"
   ]
  },
  {
   "cell_type": "markdown",
   "metadata": {},
   "source": [
    "# Baca dan Tampilkan Data"
   ]
  },
  {
   "cell_type": "markdown",
   "metadata": {},
   "source": [
    "## Baca Data dari File CSV"
   ]
  },
  {
   "cell_type": "code",
   "execution_count": null,
   "metadata": {},
   "outputs": [],
   "source": [
    "import pandas as pd\n",
    "df3 = pd.read_csv(\"Data/medali.csv\")\n",
    "print(df3)"
   ]
  },
  {
   "cell_type": "markdown",
   "metadata": {},
   "source": [
    "## Baca Data dari File Spreadsheet (.xlsx)"
   ]
  },
  {
   "cell_type": "code",
   "execution_count": null,
   "metadata": {},
   "outputs": [],
   "source": [
    "import pandas as pd\n",
    "sn = \"Sheet1\" \n",
    "df4 = pd.read_excel(\"Data/medali.xlsx\",sheet_name=sn)\n",
    "print(df4)"
   ]
  },
  {
   "cell_type": "markdown",
   "metadata": {},
   "source": [
    "# Tulis Data"
   ]
  },
  {
   "cell_type": "markdown",
   "metadata": {},
   "source": [
    "## Tulis Data ke File CSV"
   ]
  },
  {
   "cell_type": "code",
   "execution_count": null,
   "metadata": {},
   "outputs": [],
   "source": [
    "# Asumsi df3 sudah terdefinisi (lihat slide sebelumnya)\n",
    "df3.to_csv(\"Data/medali_out.csv\")"
   ]
  },
  {
   "cell_type": "markdown",
   "metadata": {},
   "source": [
    "## Tulis Data ke File Spreadsheet (.xlsx)"
   ]
  },
  {
   "cell_type": "code",
   "execution_count": null,
   "metadata": {},
   "outputs": [],
   "source": [
    "# Asumsi df4 sudah terdefinisi (lihat slide sebelumnya)\n",
    "writer = pd.ExcelWriter(\"Data/medali_out.xlsx\")\n",
    "df4.to_excel(writer, \"Sheet1\")\n",
    "df4.to_excel(writer, \"Sheet2\") #tulis data yang sama di sheet lain"
   ]
  },
  {
   "cell_type": "markdown",
   "metadata": {},
   "source": [
    "# Select Data : Subset, Filter"
   ]
  },
  {
   "cell_type": "markdown",
   "metadata": {},
   "source": [
    "- DataFrame menggunakan indeks mulai dengan nilai 0\n",
    "- Contoh-contoh:"
   ]
  },
  {
   "cell_type": "code",
   "execution_count": null,
   "metadata": {},
   "outputs": [],
   "source": [
    "#Dapatkan subset mulai dari baris ke-5 (dari indeks ke-4)\n",
    "df3[4:]"
   ]
  },
  {
   "cell_type": "code",
   "execution_count": null,
   "metadata": {},
   "outputs": [],
   "source": [
    "#dapatkan mulai baris ke-5 (idx=4), s.d. baris ke-8 (idx=7)\n",
    "df3[4:8]"
   ]
  },
  {
   "cell_type": "code",
   "execution_count": null,
   "metadata": {},
   "outputs": [],
   "source": [
    "#dapatkan semua baris s.d. baris ke-8 (idx=7)\n",
    "df3[:8]"
   ]
  },
  {
   "cell_type": "markdown",
   "metadata": {},
   "source": [
    "**DataFrame.loc: mengakses baris dan kolom berdasarkan label atau array of boolean**"
   ]
  },
  {
   "cell_type": "code",
   "execution_count": null,
   "metadata": {},
   "outputs": [],
   "source": [
    "df3.index"
   ]
  },
  {
   "cell_type": "code",
   "execution_count": null,
   "metadata": {},
   "outputs": [],
   "source": [
    "df3.columns"
   ]
  },
  {
   "cell_type": "code",
   "execution_count": null,
   "metadata": {},
   "outputs": [],
   "source": [
    "#data baris ke-4, kolom country\n",
    "df3.loc[3,\"country\"] #Indonesia"
   ]
  },
  {
   "cell_type": "code",
   "execution_count": null,
   "metadata": {},
   "outputs": [],
   "source": [
    "#data dari baris ke-4 (idx=3) s.d. ke-10 (idx=9); kolom country s.d. bronze\n",
    "df3.loc[3:9,\"country\":\"bronze\"]"
   ]
  },
  {
   "cell_type": "markdown",
   "metadata": {},
   "source": [
    "## Select Data : Berdasarkan Kondisi"
   ]
  },
  {
   "cell_type": "code",
   "execution_count": null,
   "metadata": {},
   "outputs": [],
   "source": [
    "#Ambil semua data dengan jumlah medali perunggu = 0\n",
    "df3.loc[df3[\"bronze\"] == 0]"
   ]
  },
  {
   "cell_type": "code",
   "execution_count": null,
   "metadata": {},
   "outputs": [],
   "source": [
    "#Cetak semua data dengan total medali >= 50\n",
    "print(df3.loc[df3[\"total\"] >= 50])"
   ]
  },
  {
   "cell_type": "code",
   "execution_count": null,
   "metadata": {},
   "outputs": [],
   "source": [
    "#Cetak semua data negara yang hanya mendapat medali perunggu\n",
    "print(df3.loc[(df3[\"gold\"] == 0) & (df3[\"silver\"] == 0) &  \n",
    "              (df3[\"bronze\"] > 0)])"
   ]
  },
  {
   "cell_type": "code",
   "execution_count": null,
   "metadata": {},
   "outputs": [],
   "source": [
    "#Ambil semua data negara yang tidak mendapatkan medali emas atau perak atau perunggu\n",
    "df3.loc[(df3[\"gold\"] == 0) | (df3[\"silver\"] == 0) | \n",
    "        (df3[\"bronze\"] == 0)]"
   ]
  },
  {
   "cell_type": "markdown",
   "metadata": {},
   "source": [
    "# Latihan 1\n",
    "\n",
    "**Tuliskan perintah dan tuliskan hasilnya untuk beberapa perintah berikut:**\n",
    "1. Tampilkan data 10 negara ranking pertama.\n",
    "2. Tampilkan daftar negara rangking 11 s.d. 20 (nama negaranya saja yang ditampilkan)\n",
    "3. Tampilkan data negara yang mendapatkan 1 medali emas.\n",
    "4. Tampilkan data negara dengan total perolehan medali > 20, tetapi dengan jumlah perolehan medali emas < 5\n"
   ]
  },
  {
   "cell_type": "code",
   "execution_count": null,
   "metadata": {},
   "outputs": [],
   "source": [
    "# Contoh - 3. Tampilkan data negara yang mendapatkan 1 medali emas.\n",
    "\n",
    "print(df3.loc[df3[\"gold\"] == 1])"
   ]
  },
  {
   "cell_type": "code",
   "execution_count": null,
   "metadata": {},
   "outputs": [],
   "source": [
    "# 1. Data 10 negara ranking pertama\n",
    "\n",
    "df3[\"country\"].loc[df3[\"rank\"] < 11]"
   ]
  },
  {
   "cell_type": "code",
   "execution_count": null,
   "metadata": {},
   "outputs": [],
   "source": [
    "# 2. Daftar Negara ranking 11 s.d. 20\n",
    "\n",
    "df3[\"country\"][11:21]"
   ]
  },
  {
   "cell_type": "code",
   "execution_count": null,
   "metadata": {},
   "outputs": [],
   "source": [
    "# 4. Negara Total Medali > 20 , tetapi medali Emas < 5\n",
    "\n",
    "print(df3.loc[(df3[\"total\"] > 20) & (df3[\"gold\"] < 5)])"
   ]
  },
  {
   "cell_type": "markdown",
   "metadata": {},
   "source": [
    "# Find Extremum"
   ]
  },
  {
   "cell_type": "code",
   "execution_count": null,
   "metadata": {},
   "outputs": [],
   "source": [
    "#Temukan indeks dengan nilai maksimum #pada kolom bronze\n",
    "imax = df3[\"bronze\"].idxmax()\n",
    "df3[imax:imax+1]"
   ]
  },
  {
   "cell_type": "code",
   "execution_count": null,
   "metadata": {},
   "outputs": [],
   "source": [
    "#Temukan indeks dengan nilai minimum pada kolom bronze \n",
    "#Jika nilai minimum ada lebih dari satu, maka baris yang ditemukan #pertama kali\n",
    "imin = df3[\"bronze\"].idxmin()\n",
    "df3[imin:imin+1]\n"
   ]
  },
  {
   "cell_type": "markdown",
   "metadata": {},
   "source": [
    "# Determine Range"
   ]
  },
  {
   "cell_type": "code",
   "execution_count": null,
   "metadata": {},
   "outputs": [],
   "source": [
    "#dapatkan nilai minimum dan maximum untuk seluruh data \n",
    "minimum,maximum=(df3.min(),df3.max())\n",
    "print(minimum); print (maximum)"
   ]
  },
  {
   "cell_type": "code",
   "execution_count": null,
   "metadata": {},
   "outputs": [],
   "source": [
    "#nilai minimum untuk kolom country\n",
    "minimum[\"country\"]"
   ]
  },
  {
   "cell_type": "code",
   "execution_count": null,
   "metadata": {},
   "outputs": [],
   "source": [
    "#nilai maksimum untuk kolom gold\n",
    "maximum[\"gold\"]"
   ]
  },
  {
   "cell_type": "markdown",
   "metadata": {},
   "source": [
    "# Latihan 2\n",
    "\n",
    "- Tampilkan negara(-negara) dengan perolehan perunggu terbanyak\n",
    "- Tampilkan negara(-negara) dengan perolehan perunggu paling sedikit, tapi total perolehan medali > 0\n"
   ]
  },
  {
   "cell_type": "code",
   "execution_count": null,
   "metadata": {},
   "outputs": [],
   "source": [
    "\n",
    "imax = df3[\"bronze\"].idxmax()\n",
    "df3[imax:imax+1]"
   ]
  },
  {
   "cell_type": "code",
   "execution_count": null,
   "metadata": {},
   "outputs": [],
   "source": [
    "\n",
    "imin = df3[\"bronze\"].idxmin()\n",
    "df3[imin:imin+3]"
   ]
  },
  {
   "cell_type": "markdown",
   "metadata": {},
   "source": [
    "# Sort"
   ]
  },
  {
   "cell_type": "code",
   "execution_count": null,
   "metadata": {},
   "outputs": [],
   "source": [
    "#Sort terurut menurun (ascending=0) berdasarkan kolom country\n",
    "print(df3.sort_values([\"country\"], ascending=[0]))"
   ]
  },
  {
   "cell_type": "code",
   "execution_count": null,
   "metadata": {},
   "outputs": [],
   "source": [
    "#Sort terurut menaik (ascending=1) berdasarkan kolom total\n",
    "print(df3.sort_values([\"total\"], ascending=[1]))"
   ]
  },
  {
   "cell_type": "code",
   "execution_count": null,
   "metadata": {},
   "outputs": [],
   "source": [
    "#Sort terurut menaik berdasarkan kolom total dan menurun berdasarkan kolom country\n",
    "print(df3.sort_values([\"total\",\"country\"], ascending=[1,0]))"
   ]
  },
  {
   "cell_type": "markdown",
   "metadata": {},
   "source": [
    "# Latihan-3\n",
    "\n",
    "Sort data perolehan medali terurut **menurun** berdasarkan **kolom gold** dan terurut **menaik** berdasarkan **kolom silver**\n"
   ]
  },
  {
   "cell_type": "code",
   "execution_count": null,
   "metadata": {},
   "outputs": [],
   "source": [
    "\n",
    "print(df3.sort_values([\"gold\"], ascending=[0]))"
   ]
  },
  {
   "cell_type": "code",
   "execution_count": null,
   "metadata": {},
   "outputs": [],
   "source": [
    "\n",
    "print(df3.sort_values([\"silver\"], ascending=[1]))"
   ]
  },
  {
   "cell_type": "markdown",
   "metadata": {},
   "source": [
    "# Counting Frequency\n",
    "\n",
    "**Menghitung banyaknya kemunculan suatu data item pada suatu kolom 🡪 distribusi kemunculan nilai**"
   ]
  },
  {
   "cell_type": "code",
   "execution_count": null,
   "metadata": {},
   "outputs": [],
   "source": [
    "#Counting frequency kolom bronze\n",
    "df3[\"bronze\"].value_counts()"
   ]
  },
  {
   "cell_type": "markdown",
   "metadata": {},
   "source": [
    "# Latihan-4\n",
    "\n",
    "Buatlah distribusi frekuensi untuk **total** perolehan medali."
   ]
  },
  {
   "cell_type": "code",
   "execution_count": null,
   "metadata": {},
   "outputs": [],
   "source": [
    "\n",
    "df3[\"total\"].value_counts()"
   ]
  },
  {
   "cell_type": "markdown",
   "metadata": {},
   "source": [
    "# Group By \n",
    "\n",
    "**Group by adalah perintah untuk membagi data dalam kelompok-kelompok berbeda berdasarkan suatu variabel tertentu**"
   ]
  },
  {
   "cell_type": "markdown",
   "metadata": {},
   "source": [
    "## Contoh-1: mengelompokkan data berdasarkan atribut"
   ]
  },
  {
   "cell_type": "code",
   "execution_count": null,
   "metadata": {},
   "outputs": [],
   "source": [
    "df5 = pd.read_csv(\"Data/data.csv\")\n",
    "df5.groupby(\"gender\").value_counts()"
   ]
  },
  {
   "cell_type": "markdown",
   "metadata": {},
   "source": [
    "**Fungsi sum(), max(), min(), mean(), first(), last(), size() dapat diberlakukan pada objek yang di-groupby untuk mendapatkan statistik**"
   ]
  },
  {
   "cell_type": "markdown",
   "metadata": {},
   "source": [
    "## Contoh-2: mendapatkan total jumlah anak (num_children) per kelompok gender"
   ]
  },
  {
   "cell_type": "code",
   "execution_count": null,
   "metadata": {},
   "outputs": [],
   "source": [
    "df5.groupby(\"gender\")[\"num_children\"].sum()"
   ]
  },
  {
   "cell_type": "markdown",
   "metadata": {},
   "source": [
    "## Contoh-3: mendapatkan rata-rata jumlah peliharaan (num_pets) per kelompok gender per state"
   ]
  },
  {
   "cell_type": "code",
   "execution_count": null,
   "metadata": {},
   "outputs": [],
   "source": [
    "df5.groupby([\"gender\",\"state\"])[\"num_pets\"].mean()"
   ]
  },
  {
   "cell_type": "markdown",
   "metadata": {},
   "source": [
    "# Membuat tabel pivot\n",
    "## Contoh: membuat tabel pivot berdasarkan atribut gender (sebagai baris) dan state (sebagai kolom), sel berisi banyaknya data gender per state"
   ]
  },
  {
   "cell_type": "code",
   "execution_count": null,
   "metadata": {},
   "outputs": [],
   "source": [
    "df5.groupby([\"gender\",\"state\"])[\"name\"].size().unstack()"
   ]
  },
  {
   "cell_type": "markdown",
   "metadata": {},
   "source": [
    "# Statistics Summary, Characterize Distribution\n",
    "\n",
    "## Menampilkan beberapa statistik penting pada data"
   ]
  },
  {
   "cell_type": "code",
   "execution_count": null,
   "metadata": {},
   "outputs": [],
   "source": [
    "df3.describe()"
   ]
  },
  {
   "cell_type": "markdown",
   "metadata": {},
   "source": [
    "## Rata-Rata dan Deviasi Standar\n",
    "\n",
    "**Menghitung rata-rata (mean) dan deviasi standar (std) pada data**"
   ]
  },
  {
   "cell_type": "code",
   "execution_count": null,
   "metadata": {},
   "outputs": [],
   "source": [
    "#rata-Rata data df3\n",
    "df3.describe().mean()"
   ]
  },
  {
   "cell_type": "code",
   "execution_count": null,
   "metadata": {},
   "outputs": [],
   "source": [
    "#deviasi standar data df3\n",
    "df3.describe().std()"
   ]
  },
  {
   "cell_type": "code",
   "execution_count": null,
   "metadata": {},
   "outputs": [],
   "source": [
    "#rata-rata total perolehan medali\n",
    "df3.describe().mean()[\"total\"]"
   ]
  },
  {
   "cell_type": "code",
   "execution_count": null,
   "metadata": {},
   "outputs": [],
   "source": [
    "#deviasi standar perolehan medali emas\n",
    "df3.describe().std()[\"gold\"]"
   ]
  },
  {
   "cell_type": "markdown",
   "metadata": {},
   "source": [
    "# Correlation"
   ]
  },
  {
   "cell_type": "markdown",
   "metadata": {},
   "source": [
    "## korelasi antara perolehan medali emas dengan total perolehan medali"
   ]
  },
  {
   "cell_type": "code",
   "execution_count": null,
   "metadata": {},
   "outputs": [],
   "source": [
    "df3[\"gold\"].corr(df3[\"total\"])"
   ]
  },
  {
   "cell_type": "markdown",
   "metadata": {},
   "source": [
    "# Latihan 5\n",
    "\n",
    "**Hitung dan analisis-lah korelasi antara data-data berikut:**\n",
    "- Gold vs Silver\n",
    "- Silver vs Bronze\n",
    "- Gold vs Bronze\n",
    "- Silver vs Total\n",
    "- Bronze vs Total\n",
    "\n",
    "<span style=\"color:black;font-weight:100;font-size:35px\"><center>\n",
    "\n",
    "||gold|silver|bronze|total|\n",
    "|:---:|:---:|:---:|:---:|:---:|\n",
    "|gold|1||||\n",
    "|silver|0.96218|1|||\n",
    "|bronze|0.81740|0.89955|1||\n",
    "|total|0.96564|0.98981|0.93523|1|\n",
    "\n",
    "</center>\n"
   ]
  },
  {
   "cell_type": "code",
   "execution_count": null,
   "metadata": {},
   "outputs": [],
   "source": [
    "\n",
    "df3_ = df3[[\"gold\",\"silver\",\"bronze\",\"total\"]]\n",
    "df3_.corr()"
   ]
  },
  {
   "cell_type": "code",
   "execution_count": null,
   "metadata": {},
   "outputs": [],
   "source": [
    "import numpy as np\n",
    "# Ambil hanya matriks segitiga bawah\n",
    "lower_triangle_df = pd.DataFrame(np.tril(df3_.corr()), columns=df3_.columns)\n",
    "lower_triangle_df"
   ]
  }
 ],
 "metadata": {
  "kernelspec": {
   "display_name": "GEA",
   "language": "python",
   "name": "python3"
  },
  "language_info": {
   "codemirror_mode": {
    "name": "ipython",
    "version": 3
   },
   "file_extension": ".py",
   "mimetype": "text/x-python",
   "name": "python",
   "nbconvert_exporter": "python",
   "pygments_lexer": "ipython3",
   "version": "3.11.5"
  }
 },
 "nbformat": 4,
 "nbformat_minor": 2
}
