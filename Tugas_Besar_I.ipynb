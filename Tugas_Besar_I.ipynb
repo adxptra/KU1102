{
 "cells": [
  {
   "cell_type": "markdown",
   "metadata": {},
   "source": [
    "<div style='background-image: url(\"./share/header.png\") ; padding: 0px ; background-size: cover ; border-radius: 5px ; height: 400px'>\n",
    "    <div style=\"float: right ; margin: 170px ; padding: 10px ; background: rgba(255 , 255 , 255 , 0.7) ; width: 53% ; height: 100px\">\n",
    "        <div style=\"position: relative ; top: 50% ; transform: translatey(-50%)\">\n",
    "            <div style=\"font-size: xxx-large ; font-weight: 650 ; color: rgba(0 , 0 , 0 , 0.8) ; line-height: 100%\">Tugas Besar Algoritma dan Pemrograman (Stream Pemrograman) </div>\n",
    "            <div style=\"font-size: xx-large ; padding-top: 10px ; color: rgba(0 , 0 , 0 , 0.5)\">KU1102</div>\n",
    "        </div>\n",
    "    </div>\n",
    "</div>"
   ]
  },
  {
   "cell_type": "markdown",
   "metadata": {},
   "source": [
    "# Tujuan\n",
    "<span style=\"color:black;font-weight:100;font-size:35px\">\n",
    "<ul>\n",
    "<li> Mahasiswa dapat menggunakan teknik-teknik computational thinking (decomposition, abstraction, pattern recognition, dan algorithm design) serta menggunakan teknik-teknik algorithmic thinking dalam suatu persoalan. <br>\n",
    "<li> Mahasiswa bekerja sama dan berkomunikasi dalam kelompok serta mempresentasikan hasil kerja kelompok. <br>\n",
    "</li>\n",
    "</ul>\n",
    "</span>\n",
    "\n",
    "\n",
    "\n"
   ]
  },
  {
   "cell_type": "markdown",
   "metadata": {},
   "source": [
    "# Pembagian Kelompok\n",
    "- Untuk tugas berikut, kelas dibagi menjadi kelompok; 4 orang per kelompok (jika lebih, boleh ada 5 orang dalam 1 kelompok)"
   ]
  },
  {
   "cell_type": "markdown",
   "metadata": {},
   "source": [
    "# Deskripsi Persoalan\n",
    "- Lakukan eksplorasi terhadap cara kerja salah satu sistem/aplikasi/mesin berikut.\n",
    "    - Vending machine\n",
    "    - Pintu tol otomatis\n",
    "    - Pencarian rute di Waze™ atau Google Maps™\n",
    "    - Microwave\n",
    "    - Lift\n",
    "    - ATM\n",
    "    - Portal parkir otomatis\n",
    "    - [silakan mengajukan ide]\n",
    "- Untuk setiap kelompok akan ditetapkan 1 topik untuk dikerjakan.\n",
    "\n",
    "\n"
   ]
  },
  {
   "cell_type": "markdown",
   "metadata": {},
   "source": [
    "# Tugas 1\n",
    "- Lakukan eksplorasi terhadap sistem/aplikasi/benda yang ditetapkan untuk kelompok Anda.\n",
    "  - Bisa berdasarkan pengalaman langsung dan/atau studi literatur\n",
    "  - Diutamakan survey ke lapangan.\n",
    "- Dengan menggunakan teknik dekomposisi persoalan yang pernah disampaikan pada perkuliahan sebelumnya, buatlah dekomposisi sistem yang Anda tangani menjadi unit-unitnya (sampai unit terkecil yang bisa Anda bayangkan).\n",
    "\n",
    "\n",
    "\n"
   ]
  },
  {
   "cell_type": "markdown",
   "metadata": {},
   "source": [
    "# Tugas 2\n",
    "- Rancanglah sebuah simulasi yang menggambarkan kerja sistem tersebut.\n",
    "  - Lengkapi deskripsi di atas dengan algoritma dalam bentuk flowchart/pseudocode untuk setiap fungsi-fungsi dalam sistem.\n",
    "  - Perhatikan bahwa algoritma akan diimplementasikan dalam bentuk program (Tugas 3). Perhatikan ketentuan pada tugas 3 (slide berikutnya).\n",
    "  - Antarmuka bebas, tidak harus sama persis seperti sistem aslinya, tetapi menggambarkan interaksi dengan penggunanya.\n",
    "  - Jika sistem dianggap terlalu besar, Anda boleh memilih satu atau beberapa unit untuk dibuat simulasinya (konsultasikan ke dosen).\n"
   ]
  },
  {
   "cell_type": "markdown",
   "metadata": {},
   "source": [
    "# Tugas 3\n",
    "- Berdasarkan rancangan simulasi dan algoritma yang Anda buat di Tugas 2, buatlah program dalam bahasa pemrograman Python yang diajarkan di kelas untuk menjalankan simulasi tersebut.\n",
    "- Program harus memanfaatkan beberapa aspek pemrograman dasar sbb.\n",
    "    - Sekuens, kondisional, loop\n",
    "    - Function/procedure \n",
    "    - Array \n",
    "    - Opsional: Matriks"
   ]
  },
  {
   "cell_type": "markdown",
   "metadata": {},
   "source": [
    "# Deliverable\n",
    "- Deliverable:\n",
    "  - Laporan \n",
    "  - Source code program\n",
    "  - File ppt/video untuk presentasi\n",
    "\n",
    "- Format laporan\n",
    "  - Ditulis dengan menggunakan aplikasi word processor (contoh: MS Word) dalam format A4; spasi = 1; font-teks = Times New Roman (12); font kode program = Courier New (10).\n",
    "  - Jumlah halaman bebas, tetapi laporan dibuat ringkas dan jelas\n",
    "  \n",
    "- Isi laporan:\n",
    "  - Sampul, minimum berisi: kode/nama mata kuliah; judul tugas; daftar anggota kelompok\n",
    "  - Daftar isi\n",
    "  - Laporan inti: hasil tugas 1, tugas 2, dan tugas 3\n",
    "    - Ringkas, padat, jelas\n",
    "  - Kesimpulan dan lesson learned\n",
    "  - Pembagian tugas dalam kelompok\n",
    "  - Daftar referensi (jika perlu)\n",
    "  \n",
    "  Catatan: Source code program tidak perlu dimasukkan ke laporan (dikumpulkan terpisah)\n",
    "- Siapkan ppt/video untuk presentasi dan demo @kelompok max 10 menit\n",
    "\n",
    "- Presentasi tugas dilaksanakan pada minggu ke-11 pada jam kuliah\n",
    "- Mekanisme pengumpulan laporan dan source code\n",
    "  - Laporan dikumpulkan dalam bentuk softcopy dalam format pdf\n",
    "  - Laporan dan source code program dimasukkan dalam 1 folder dengan nama: KU1102_XX_YY (XX: nomor kelas; YY:   nomor kelompok) dan di-zip.\n",
    "  - File zip berisi laporan dan source code dikumpulkan pada link sbb: <link>\n",
    "  - Deadline pengumpulan laporan adalah pada hari <tgl_deadline>.\n",
    "\n",
    "\n"
   ]
  }
 ],
 "metadata": {
  "language_info": {
   "name": "python"
  },
  "orig_nbformat": 4
 },
 "nbformat": 4,
 "nbformat_minor": 2
}
